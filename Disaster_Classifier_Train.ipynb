{
  "nbformat": 4,
  "nbformat_minor": 0,
  "metadata": {
    "colab": {
      "name": "Disaster Classifier Train.ipynb",
      "provenance": []
    },
    "kernelspec": {
      "name": "python3",
      "display_name": "Python 3"
    },
    "accelerator": "GPU"
  },
  "cells": [
    {
      "cell_type": "code",
      "metadata": {
        "id": "Ya7a7efzJitS"
      },
      "source": [
        "#import\n",
        "import tensorflow as tf\n",
        "from tensorflow import keras\n",
        "from keras.models import Sequential\n",
        "from keras.layers import Dense, Flatten, Conv2D, MaxPool2D, Dropout\n",
        "from tensorflow.keras import layers\n",
        "from keras.utils import to_categorical\n",
        "import numpy as np\n",
        "import matplotlib.pyplot as plt\n",
        "plt.style.use('fivethirtyeight')"
      ],
      "execution_count": 1,
      "outputs": []
    },
    {
      "cell_type": "code",
      "metadata": {
        "colab": {
          "base_uri": "https://localhost:8080/"
        },
        "id": "_la-GOqeLqWW",
        "outputId": "3fce0e69-e23f-4616-bba1-b91f9740e7c3"
      },
      "source": [
        "!pip install split-folders"
      ],
      "execution_count": 2,
      "outputs": [
        {
          "output_type": "stream",
          "text": [
            "Collecting split-folders\n",
            "  Downloading https://files.pythonhosted.org/packages/b8/5f/3c2b2f7ea5e047c8cdc3bb00ae582c5438fcdbbedcc23b3cc1c2c7aae642/split_folders-0.4.3-py3-none-any.whl\n",
            "Installing collected packages: split-folders\n",
            "Successfully installed split-folders-0.4.3\n"
          ],
          "name": "stdout"
        }
      ]
    },
    {
      "cell_type": "code",
      "metadata": {
        "colab": {
          "base_uri": "https://localhost:8080/"
        },
        "id": "Qly0715nMIRn",
        "outputId": "fe48c105-67f9-4784-f067-53bffe15a37d"
      },
      "source": [
        "from google.colab import drive\n",
        "drive.mount('/content/drive')"
      ],
      "execution_count": 3,
      "outputs": [
        {
          "output_type": "stream",
          "text": [
            "Mounted at /content/drive\n"
          ],
          "name": "stdout"
        }
      ]
    },
    {
      "cell_type": "code",
      "metadata": {
        "id": "lynLSAayL5pi"
      },
      "source": [
        "#Unzip & Load the dataset\n",
        "!unzip -q '/content/drive/MyDrive/Utkranti/CSI Hackathon/Disaster detection/Cyclone_Wildfire_Flood_Earthquake_Database.zip'"
      ],
      "execution_count": 4,
      "outputs": []
    },
    {
      "cell_type": "code",
      "metadata": {
        "colab": {
          "base_uri": "https://localhost:8080/"
        },
        "id": "MXZrd4QNMYnO",
        "outputId": "49d260bb-e3cb-4880-bbdd-9543603d70ce"
      },
      "source": [
        "import splitfolders\n",
        "\n",
        "input_folder = '/content/Cyclone_Wildfire_Flood_Earthquake_Database'\n",
        "output_folder = '/content/sample_data/Categorised'\n",
        "\n",
        "splitfolders.ratio(input_folder, output=output_folder, seed=42, ratio=(.8, .2))"
      ],
      "execution_count": 5,
      "outputs": [
        {
          "output_type": "stream",
          "text": [
            "Copying files: 4428 files [00:45, 98.19 files/s] \n"
          ],
          "name": "stderr"
        }
      ]
    },
    {
      "cell_type": "code",
      "metadata": {
        "id": "CMcN3RIhOdUV"
      },
      "source": [
        "DATASET_PATH = '/content/sample_data/Categorised'\n",
        "train_path = '/content/sample_data/Categorised/train'\n",
        "validate_path = '/content/sample_data/Categorised/val'\n",
        "\n",
        "categories = [\"Cyclone\",\"Earthquake\", \"Flood\", \"Wildfire\"]\n",
        "n = len(categories)\n",
        "im_size = 35\n",
        "target_size = (im_size, im_size)\n",
        "channels = 1"
      ],
      "execution_count": 6,
      "outputs": []
    },
    {
      "cell_type": "code",
      "metadata": {
        "colab": {
          "base_uri": "https://localhost:8080/"
        },
        "id": "BrRqgm3YXcYn",
        "outputId": "b0a69ddd-bc3e-4162-de8f-6283bf50f812"
      },
      "source": [
        "from keras.preprocessing.image import ImageDataGenerator\n",
        "from keras.preprocessing.image import img_to_array\n",
        "\n",
        "train_data_gen = ImageDataGenerator(\n",
        "    rotation_range=0.1,\n",
        "    width_shift_range=0.1,\n",
        "    height_shift_range=0.1,\n",
        "    brightness_range=[0.5,1.5],\n",
        "    channel_shift_range=0.05,\n",
        "    rescale=1./255\n",
        ")\n",
        "test_data_gen = ImageDataGenerator(\n",
        "    rescale = 1./255\n",
        ")\n",
        "\n",
        "train_generator = train_data_gen.flow_from_directory(train_path, target_size=target_size, color_mode='grayscale', class_mode='categorical', classes=categories, seed=42)\n",
        "test_generator = test_data_gen.flow_from_directory(validate_path, target_size=target_size, color_mode='grayscale', class_mode='categorical', classes=categories, seed=42)\n"
      ],
      "execution_count": 7,
      "outputs": [
        {
          "output_type": "stream",
          "text": [
            "Found 3541 images belonging to 4 classes.\n",
            "Found 887 images belonging to 4 classes.\n"
          ],
          "name": "stdout"
        }
      ]
    },
    {
      "cell_type": "code",
      "metadata": {
        "id": "SH4MTb5MYBDT"
      },
      "source": [
        "import math, random\n",
        "\n",
        "def get_subplot_grid(mylist, columns, figwidth, figheight):\n",
        "  plot_rows = math.ceil(len(mylist)/2.)\n",
        "  fig, ax = plt.subplots(plot_rows, 2, sharex=False, sharey=True)\n",
        "  fig.set_figwidth(figwidth)\n",
        "  fig.set_figheight(figheight)\n",
        "  fig.subplots_adjust(hspace=0.4)\n",
        "  axflat=ax.flat\n",
        "  for ax in axflat[ax.size - 1: len(mylist) - 1: -1]:\n",
        "    ax.set_visible(False)\n",
        "  return fig, axflat"
      ],
      "execution_count": 8,
      "outputs": []
    },
    {
      "cell_type": "code",
      "metadata": {
        "colab": {
          "base_uri": "https://localhost:8080/",
          "height": 192
        },
        "id": "q2IiqmShZv0U",
        "outputId": "4db8618d-3974-4237-922a-75c7d9bab230"
      },
      "source": [
        "import os\n",
        "\n",
        "from keras_preprocessing.image import img_to_array, load_img\n",
        "test_images_classes = [\"Flood\",\"Wildfire\"]\n",
        "test_images = []\n",
        "\n",
        "fig, axflat = get_subplot_grid(mylist=test_images_classes, columns=2, figwidth=4, figheight=6)\n",
        "for idx, label in enumerate(test_images_classes):\n",
        "    image_folder = os.path.join(train_path, label)\n",
        "    image_file = os.path.join(image_folder, random.choice(os.listdir(image_folder)) )\n",
        "    loaded_image =load_img(path=image_file,target_size=(im_size, im_size ,1))\n",
        "    #convert to array and resample dividing by 255\n",
        "    img_array = img_to_array(loaded_image) / 255.\n",
        "    test_images.append({\"idx\":idx, \"image\":img_array, \"label\": label})\n",
        "    \n",
        "    axflat[idx].set_title(label, size=12)\n",
        "    axflat[idx].imshow(img_array)\n",
        "plt.show()\n",
        "plt.gcf().clear()"
      ],
      "execution_count": 9,
      "outputs": [
        {
          "output_type": "display_data",
          "data": {
            "image/png": "[encoded data removed]",
            "text/plain": [
              "<Figure size 288x432 with 2 Axes>"
            ]
          },
          "metadata": {
            "tags": [],
            "needs_background": "light"
          }
        },
        {
          "output_type": "display_data",
          "data": {
            "text/plain": [
              "<Figure size 432x288 with 0 Axes>"
            ]
          },
          "metadata": {
            "tags": []
          }
        }
      ]
    },
    {
      "cell_type": "code",
      "metadata": {
        "colab": {
          "base_uri": "https://localhost:8080/"
        },
        "id": "YYOQ_9e-Z8XU",
        "outputId": "1772b812-e309-4e63-d6b7-4deaf9f36c47"
      },
      "source": [
        "from pprint import pprint\n",
        "\n",
        "trained_classes_labels = list(train_generator.class_indices.keys())\n",
        "pprint(train_generator.class_indices)"
      ],
      "execution_count": 10,
      "outputs": [
        {
          "output_type": "stream",
          "text": [
            "{'Cyclone': 0, 'Earthquake': 1, 'Flood': 2, 'Wildfire': 3}\n"
          ],
          "name": "stdout"
        }
      ]
    },
    {
      "cell_type": "code",
      "metadata": {
        "colab": {
          "base_uri": "https://localhost:8080/"
        },
        "id": "cMhBXZdVa9eT",
        "outputId": "ec25eacd-8ae8-4a49-d9d3-0d6acff7868e"
      },
      "source": [
        "unique, counts = np.unique(train_generator.classes, return_counts=True)\n",
        "print(\"Number of samples per class: \")\n",
        "pprint(dict(zip(train_generator.class_indices, counts)))"
      ],
      "execution_count": 11,
      "outputs": [
        {
          "output_type": "stream",
          "text": [
            "Number of samples per class: \n",
            "{'Cyclone': 742, 'Earthquake': 1080, 'Flood': 858, 'Wildfire': 861}\n"
          ],
          "name": "stdout"
        }
      ]
    },
    {
      "cell_type": "markdown",
      "metadata": {
        "id": "8s8OSDpR2OO9"
      },
      "source": [
        "Training the Model"
      ]
    },
    {
      "cell_type": "code",
      "metadata": {
        "id": "Rw8qLw7p2NWu"
      },
      "source": [
        "from keras.layers import MaxPooling2D, BatchNormalization, Activation, SpatialDropout2D, LeakyReLU, Dropout\n",
        "def create_model():\n",
        "  model = Sequential()\n",
        "  model.add(Conv2D(filters=64, kernel_size=(3,3), padding = 'same', strides=(1, 1),\n",
        "                                    input_shape = (im_size, im_size, channels),\n",
        "                                    #kernel_regularizer=k.regularizers.l2(0.0005),\n",
        "                                    name='conv2d_1'))\n",
        "  model.add(BatchNormalization())\n",
        "  model.add(Activation('relu', name='activation_conv2d_1'))\n",
        "\n",
        "  model.add(SpatialDropout2D(0.2))\n",
        "  model.add(Conv2D(filters = 128, kernel_size = (3,3), padding = 'same', name='conv2d_2'))\n",
        "    #normalize the output of different activations\n",
        "  model.add(BatchNormalization())\n",
        "  model.add(LeakyReLU(0.5, name='activation_conv2d_2'))\n",
        "  model.add(MaxPooling2D(pool_size = (2,2)))\n",
        "  model.add(Flatten())\n",
        "    \n",
        "    # output features onto a dense layer\n",
        "    #model.add(k.layers.Dense(units = len(trained_classes_labels) * 20, name='dense_1' ) )\n",
        "  model.add(Dense(units = 250, name='dense_1' ) )\n",
        "  model.add(Activation('relu', name='activation_dense_1'))\n",
        "\n",
        "    # randomly switch off 50% of the nodes per epoch step to avoid overfitting\n",
        "  model.add(Dropout(0.5))\n",
        "\n",
        "    # output layer with the number of units equal to the number of categories\n",
        "  model.add(Dense(units = len(trained_classes_labels), name='dense_2'))\n",
        "  model.add(Activation('softmax', name='activation_final'))\n",
        "\n",
        "  return model\n",
        "\n",
        "\n",
        "my_model = create_model()"
      ],
      "execution_count": 12,
      "outputs": []
    },
    {
      "cell_type": "code",
      "metadata": {
        "id": "-dwishjU2j3k"
      },
      "source": [
        "from keras.optimizers import RMSprop\n",
        "my_model.compile(loss='categorical_crossentropy', metrics=['accuracy'], optimizer=RMSprop(lr=1e-4))# ,decay=1e-6))"
      ],
      "execution_count": 13,
      "outputs": []
    },
    {
      "cell_type": "code",
      "metadata": {
        "colab": {
          "base_uri": "https://localhost:8080/"
        },
        "id": "09XmpOi42oqU",
        "outputId": "32ea7a42-310f-4efa-aeb5-49d4259f5d1f"
      },
      "source": [
        "from keras.callbacks import EarlyStopping, ModelCheckpoint, TensorBoard\n",
        "from datetime import datetime as dt\n",
        "start=dt.now()\n",
        "history = my_model.fit_generator(\n",
        "    train_generator,\n",
        "    #epochs\n",
        "    steps_per_epoch = train_generator.n// 32,\n",
        "    epochs = 10,\n",
        "\n",
        "    validation_data = test_generator,\n",
        "    validation_steps = test_generator.n // 32, #Batch size = 32\n",
        "\n",
        "    #Printing progress\n",
        "    verbose = 1,\n",
        "    callbacks = [\n",
        "                 EarlyStopping(monitor='val_loss', patience=3),\n",
        "                 ModelCheckpoint(\"fruits_checkpoints.h5\", monitor='val_loss', save_best_only=True),\n",
        "                 TensorBoard(log_dir=\"logs/{:%d_%b_%Y_%H:%M:%S}\".format(dt.now()))\n",
        "\n",
        "    ]\n",
        ")"
      ],
      "execution_count": 14,
      "outputs": [
        {
          "output_type": "stream",
          "text": [
            "/usr/local/lib/python3.7/dist-packages/tensorflow/python/keras/engine/training.py:1844: UserWarning: `Model.fit_generator` is deprecated and will be removed in a future version. Please use `Model.fit`, which supports generators.\n",
            "  warnings.warn('`Model.fit_generator` is deprecated and '\n"
          ],
          "name": "stderr"
        },
        {
          "output_type": "stream",
          "text": [
            "Epoch 1/10\n",
            "110/110 [==============================] - 147s 1s/step - loss: 2.8651 - accuracy: 0.3908 - val_loss: 1.3773 - val_accuracy: 0.3785\n",
            "Epoch 2/10\n",
            "110/110 [==============================] - 114s 1s/step - loss: 1.1546 - accuracy: 0.5117 - val_loss: 1.4420 - val_accuracy: 0.3507\n",
            "Epoch 3/10\n",
            "110/110 [==============================] - 114s 1s/step - loss: 1.1190 - accuracy: 0.5578 - val_loss: 1.5652 - val_accuracy: 0.3345\n",
            "Epoch 4/10\n",
            "110/110 [==============================] - 115s 1s/step - loss: 1.0758 - accuracy: 0.5616 - val_loss: 0.9707 - val_accuracy: 0.5856\n",
            "Epoch 5/10\n",
            "110/110 [==============================] - 115s 1s/step - loss: 1.0502 - accuracy: 0.5780 - val_loss: 0.8490 - val_accuracy: 0.6782\n",
            "Epoch 6/10\n",
            "110/110 [==============================] - 114s 1s/step - loss: 1.0606 - accuracy: 0.5857 - val_loss: 0.7933 - val_accuracy: 0.7130\n",
            "Epoch 7/10\n",
            "110/110 [==============================] - 114s 1s/step - loss: 1.0512 - accuracy: 0.5959 - val_loss: 0.9745 - val_accuracy: 0.6007\n",
            "Epoch 8/10\n",
            "110/110 [==============================] - 114s 1s/step - loss: 1.0470 - accuracy: 0.5792 - val_loss: 0.7746 - val_accuracy: 0.7072\n",
            "Epoch 9/10\n",
            "110/110 [==============================] - 114s 1s/step - loss: 0.9874 - accuracy: 0.6040 - val_loss: 0.7540 - val_accuracy: 0.7037\n",
            "Epoch 10/10\n",
            "110/110 [==============================] - 114s 1s/step - loss: 1.0146 - accuracy: 0.5877 - val_loss: 0.7784 - val_accuracy: 0.6898\n"
          ],
          "name": "stdout"
        }
      ]
    },
    {
      "cell_type": "code",
      "metadata": {
        "colab": {
          "base_uri": "https://localhost:8080/"
        },
        "id": "Ia0SKrvi8XJP",
        "outputId": "3aff9c72-8492-4616-d925-38db8ee55c20"
      },
      "source": [
        "my_model.save('/content/drive/MyDrive/Utkranti/CSI Hackathon/Disaster detection/models/model_4')"
      ],
      "execution_count": 15,
      "outputs": [
        {
          "output_type": "stream",
          "text": [
            "INFO:tensorflow:Assets written to: /content/drive/MyDrive/Utkranti/CSI Hackathon/Disaster detection/models/model_4/assets\n"
          ],
          "name": "stdout"
        }
      ]
    },
    {
      "cell_type": "code",
      "metadata": {
        "colab": {
          "base_uri": "https://localhost:8080/"
        },
        "id": "2VBR9TYS9Y3f",
        "outputId": "6c82ab7e-df09-43e0-f094-e208901a6c40"
      },
      "source": [
        "my_model.summary()"
      ],
      "execution_count": 16,
      "outputs": [
        {
          "output_type": "stream",
          "text": [
            "Model: \"sequential\"\n",
            "_________________________________________________________________\n",
            "Layer (type)                 Output Shape              Param #   \n",
            "=================================================================\n",
            "conv2d_1 (Conv2D)            (None, 35, 35, 64)        640       \n",
            "_________________________________________________________________\n",
            "batch_normalization (BatchNo (None, 35, 35, 64)        256       \n",
            "_________________________________________________________________\n",
            "activation_conv2d_1 (Activat (None, 35, 35, 64)        0         \n",
            "_________________________________________________________________\n",
            "spatial_dropout2d (SpatialDr (None, 35, 35, 64)        0         \n",
            "_________________________________________________________________\n",
            "conv2d_2 (Conv2D)            (None, 35, 35, 128)       73856     \n",
            "_________________________________________________________________\n",
            "batch_normalization_1 (Batch (None, 35, 35, 128)       512       \n",
            "_________________________________________________________________\n",
            "activation_conv2d_2 (LeakyRe (None, 35, 35, 128)       0         \n",
            "_________________________________________________________________\n",
            "max_pooling2d (MaxPooling2D) (None, 17, 17, 128)       0         \n",
            "_________________________________________________________________\n",
            "flatten (Flatten)            (None, 36992)             0         \n",
            "_________________________________________________________________\n",
            "dense_1 (Dense)              (None, 250)               9248250   \n",
            "_________________________________________________________________\n",
            "activation_dense_1 (Activati (None, 250)               0         \n",
            "_________________________________________________________________\n",
            "dropout (Dropout)            (None, 250)               0         \n",
            "_________________________________________________________________\n",
            "dense_2 (Dense)              (None, 4)                 1004      \n",
            "_________________________________________________________________\n",
            "activation_final (Activation (None, 4)                 0         \n",
            "=================================================================\n",
            "Total params: 9,324,518\n",
            "Trainable params: 9,324,134\n",
            "Non-trainable params: 384\n",
            "_________________________________________________________________\n"
          ],
          "name": "stdout"
        }
      ]
    },
    {
      "cell_type": "code",
      "metadata": {
        "id": "xqPSFijN0TgD"
      },
      "source": [
        ""
      ],
      "execution_count": null,
      "outputs": []
    }
  ]
}